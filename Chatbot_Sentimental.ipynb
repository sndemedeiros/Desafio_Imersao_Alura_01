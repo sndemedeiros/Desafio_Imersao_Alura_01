{
  "nbformat": 4,
  "nbformat_minor": 0,
  "metadata": {
    "colab": {
      "provenance": [],
      "authorship_tag": "ABX9TyPxuCoOXkwvrQjDWmLgUKtW",
      "include_colab_link": true
    },
    "kernelspec": {
      "name": "python3",
      "display_name": "Python 3"
    },
    "language_info": {
      "name": "python"
    }
  },
  "cells": [
    {
      "cell_type": "markdown",
      "metadata": {
        "id": "view-in-github",
        "colab_type": "text"
      },
      "source": [
        "<a href=\"https://colab.research.google.com/github/sndemedeiros/Desafio_Imersao_Alura_01/blob/main/Chatbot_Sentimental.ipynb\" target=\"_parent\"><img src=\"https://colab.research.google.com/assets/colab-badge.svg\" alt=\"Open In Colab\"/></a>"
      ]
    },
    {
      "cell_type": "code",
      "execution_count": 1,
      "metadata": {
        "colab": {
          "base_uri": "https://localhost:8080/"
        },
        "id": "mJX6nu0oUdZa",
        "outputId": "93d95b63-25a7-45a1-ef37-01abb7601fb5"
      },
      "outputs": [
        {
          "output_type": "stream",
          "name": "stdout",
          "text": [
            "\u001b[2K     \u001b[90m━━━━━━━━━━━━━━━━━━━━━━━━━━━━━━━━━━━━━━━━\u001b[0m \u001b[32m626.3/626.3 kB\u001b[0m \u001b[31m3.2 MB/s\u001b[0m eta \u001b[36m0:00:00\u001b[0m\n",
            "\u001b[?25h"
          ]
        },
        {
          "output_type": "stream",
          "name": "stderr",
          "text": [
            "[nltk_data] Downloading package punkt to /root/nltk_data...\n",
            "[nltk_data]   Unzipping tokenizers/punkt.zip.\n"
          ]
        },
        {
          "output_type": "execute_result",
          "data": {
            "text/plain": [
              "True"
            ]
          },
          "metadata": {},
          "execution_count": 1
        }
      ],
      "source": [
        "# Instalando o SDK do Google e TextBlob\n",
        "!pip install -q -U google-generativeai textblob\n",
        "import nltk\n",
        "nltk.download('punkt')"
      ]
    },
    {
      "cell_type": "code",
      "source": [
        "# Configurações iniciais\n",
        "import google.generativeai as genai\n",
        "from textblob import TextBlob\n",
        "from google.colab import userdata\n",
        "api_key = userdata.get('SECRET_KEY')\n",
        "GOOGLE_API_KEY = api_key\n",
        "genai.configure(api_key=GOOGLE_API_KEY)\n"
      ],
      "metadata": {
        "id": "N0sbm1M3UpiK"
      },
      "execution_count": 3,
      "outputs": []
    },
    {
      "cell_type": "code",
      "source": [
        "# Listando os modelos disponíveis\n",
        "for m in genai.list_models():\n",
        "  if 'generateContent' in m.supported_generation_methods:\n",
        "    print(m.name)\n",
        "\n",
        "generation_config = {\n",
        "  \"candidate_count\": 1,\n",
        "  \"temperature\": 0.5,\n",
        "}\n",
        "\n",
        "safety_settings = {\n",
        "    'HATE': 'BLOCK_NONE',\n",
        "    'HARASSMENT': 'BLOCK_NONE',\n",
        "    'SEXUAL' : 'BLOCK_NONE',\n",
        "    'DANGEROUS' : 'BLOCK_NONE'\n",
        "}\n",
        "\n",
        "model = genai.GenerativeModel(model_name='gemini-1.0-pro',\n",
        "                              generation_config=generation_config,\n",
        "                              safety_settings=safety_settings,)\n"
      ],
      "metadata": {
        "colab": {
          "base_uri": "https://localhost:8080/",
          "height": 138
        },
        "id": "xHdeE7nEUwap",
        "outputId": "7e913d35-ac12-4713-8cd4-0bb187637915"
      },
      "execution_count": 4,
      "outputs": [
        {
          "output_type": "stream",
          "name": "stdout",
          "text": [
            "models/gemini-1.0-pro\n",
            "models/gemini-1.0-pro-001\n",
            "models/gemini-1.0-pro-latest\n",
            "models/gemini-1.0-pro-vision-latest\n",
            "models/gemini-1.5-pro-latest\n",
            "models/gemini-pro\n",
            "models/gemini-pro-vision\n"
          ]
        }
      ]
    },
    {
      "cell_type": "code",
      "source": [
        "# Iniciando o chat\n",
        "chat = model.start_chat(history=[])\n",
        "\n",
        "prompt = input('Como você está se sentindo hoje? Digite sua resposta ou \"fim\" para encerrar: ')\n",
        "\n",
        "while prompt != \"fim\":\n",
        "    response = chat.send_message(prompt)\n",
        "    print(\"Resposta do Chatbot:\", response.text, '\\n\\n')\n",
        "    # Análise de sentimentos com TextBlob\n",
        "    analysis = TextBlob(response.text)\n",
        "    sentimento = \"Positivo\" if analysis.sentiment.polarity > 0 else \"Negativo\"\n",
        "    print(\"Análise de Sentimento da Resposta:\", sentimento, '\\n')\n",
        "    prompt = input('Você pode continuar falando sobre seus sentimentos ou digitar \"fim\" para encerrar: ')\n"
      ],
      "metadata": {
        "colab": {
          "base_uri": "https://localhost:8080/",
          "height": 610
        },
        "id": "QmBlXX4OVIBx",
        "outputId": "eaed3752-5411-483b-dc29-f3bbd699da1c"
      },
      "execution_count": 11,
      "outputs": [
        {
          "name": "stdout",
          "output_type": "stream",
          "text": [
            "Como você está se sentindo hoje? Digite sua resposta ou \"fim\" para encerrar: Feliz demais\n",
            "Resposta do Chatbot: Estou feliz por você estar se sentindo tão bem! É importante apreciar os momentos felizes da vida. Aqui estão algumas dicas para aproveitar ao máximo sua felicidade:\n",
            "\n",
            "* **Compartilhe sua alegria:** Conte às pessoas que você ama como você está se sentindo e espalhe a positividade.\n",
            "* **Seja grato:** Tire um tempo para apreciar as coisas boas de sua vida e expresse gratidão por elas.\n",
            "* **Faça algo que você goste:** Dedique-se a atividades que lhe tragam alegria e satisfação.\n",
            "* **Cuide de si mesmo:** Durma o suficiente, alimente-se bem e exercite-se regularmente para manter seu bem-estar físico e mental.\n",
            "* **Conecte-se com os outros:** Passe tempo com pessoas que o fazem feliz e que apoiam sua felicidade.\n",
            "* **Viva o momento:** Não se preocupe com o futuro ou se apegue ao passado. Concentre-se em desfrutar o momento presente.\n",
            "* **Seja gentil consigo mesmo:** Não seja duro consigo mesmo se sentir tristeza ou decepção. Todo mundo tem altos e baixos.\n",
            "* **Procure ajuda se precisar:** Se sua felicidade for persistentemente baixa, não hesite em procurar ajuda profissional. Um terapeuta pode ajudá-lo a identificar as causas subjacentes e desenvolver estratégias de enfrentamento. \n",
            "\n",
            "\n",
            "Análise de Sentimento da Resposta: Negativo \n",
            "\n",
            "Você pode continuar falando sobre seus sentimentos ou digitar \"fim\" para encerrar: angustiada\n",
            "Resposta do Chatbot: Entendo que você esteja se sentindo angustiada. A angústia pode ser um sentimento muito difícil de lidar. Aqui estão algumas dicas que podem ajudar:\n",
            "\n",
            "* **Identifique os gatilhos:** Tente identificar o que está causando sua angústia. Isso pode ajudá-lo a desenvolver estratégias para evitá-los ou lidar com eles de forma mais eficaz.\n",
            "* **Pratique técnicas de relaxamento:** Técnicas como respiração profunda, meditação e ioga podem ajudar a acalmar seu sistema nervoso e reduzir a angústia.\n",
            "* **Converse com alguém:** Falar sobre seus sentimentos com um amigo de confiança, familiar ou terapeuta pode ajudá-lo a processar suas emoções e obter apoio.\n",
            "* **Faça algo que você goste:** Dedique-se a atividades que lhe tragam alegria e satisfação. Isso pode ajudar a distraí-lo de seus pensamentos angustiantes.\n",
            "* **Cuide de si mesmo:** Durma o suficiente, alimente-se bem e exercite-se regularmente para manter seu bem-estar físico e mental.\n",
            "* **Estabeleça metas realistas:** Não tente fazer muito de uma vez. Estabeleça metas pequenas e realistas que você possa alcançar gradualmente.\n",
            "* **Seja gentil consigo mesmo:** Não seja duro consigo mesmo se sentir angústia. Todo mundo tem momentos difíceis.\n",
            "* **Procure ajuda profissional se precisar:** Se sua angústia for persistente ou interferir em sua vida diária, não hesite em procurar ajuda profissional. Um terapeuta pode ajudá-lo a identificar as causas subjacentes de sua angústia e desenvolver estratégias de enfrentamento.\n",
            "\n",
            "Lembre-se de que você não está sozinho e que há ajuda disponível. Com o apoio certo e as estratégias de enfrentamento adequadas, você pode superar sua angústia e viver uma vida mais plena e feliz. \n",
            "\n",
            "\n",
            "Análise de Sentimento da Resposta: Positivo \n",
            "\n",
            "Você pode continuar falando sobre seus sentimentos ou digitar \"fim\" para encerrar: fim\n"
          ]
        }
      ]
    },
    {
      "cell_type": "code",
      "source": [
        "# Exibe o histórico do chat após a conclusão\n",
        "chat.history"
      ],
      "metadata": {
        "colab": {
          "base_uri": "https://localhost:8080/"
        },
        "id": "JjbFE-EsWjlk",
        "outputId": "c26391ef-861d-4567-a0c4-1b6ea651f56d"
      },
      "execution_count": 8,
      "outputs": [
        {
          "output_type": "execute_result",
          "data": {
            "text/plain": [
              "[parts {\n",
              "   text: \"feliz\"\n",
              " }\n",
              " role: \"user\",\n",
              " parts {\n",
              "   text: \"\\302\\241Me alegro de que est\\303\\251s feliz! \\302\\241Espero que tu felicidad contin\\303\\272e!\"\n",
              " }\n",
              " role: \"model\"]"
            ]
          },
          "metadata": {},
          "execution_count": 8
        }
      ]
    }
  ]
}